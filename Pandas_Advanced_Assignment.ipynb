{
  "cells": [
    {
      "cell_type": "markdown",
      "metadata": {
        "id": "view-in-github",
        "colab_type": "text"
      },
      "source": [
        "<a href=\"https://colab.research.google.com/github/Shubhbetter/Pandas_Advanced_Assignment/blob/main/Pandas_Advanced_Assignment.ipynb\" target=\"_parent\"><img src=\"https://colab.research.google.com/assets/colab-badge.svg\" alt=\"Open In Colab\"/></a>"
      ]
    },
    {
      "cell_type": "markdown",
      "metadata": {
        "id": "XHvoVqK5mYA-"
      },
      "source": [
        "# <center>Pandas Assignment</center>"
      ],
      "id": "XHvoVqK5mYA-"
    },
    {
      "cell_type": "markdown",
      "metadata": {
        "id": "v9Qb2_aumYBF"
      },
      "source": [
        "Import pandas and numpy with their aliases"
      ],
      "id": "v9Qb2_aumYBF"
    },
    {
      "cell_type": "code",
      "execution_count": null,
      "metadata": {
        "id": "ihFP1wXZmYBF"
      },
      "outputs": [],
      "source": [
        "import pandas as pd\n",
        "import numpy as np"
      ],
      "id": "ihFP1wXZmYBF"
    },
    {
      "cell_type": "markdown",
      "metadata": {
        "id": "0b8hUBhTmYBG"
      },
      "source": [
        "Create a variable a = pd.Series([ 100, 200, 300, 400])"
      ],
      "id": "0b8hUBhTmYBG"
    },
    {
      "cell_type": "code",
      "execution_count": null,
      "metadata": {
        "id": "hzvzkbNYmYBH"
      },
      "outputs": [],
      "source": [
        "a = pd.Series([ 100, 200, 300, 400])\n"
      ],
      "id": "hzvzkbNYmYBH"
    },
    {
      "cell_type": "markdown",
      "metadata": {
        "id": "BSyNFbitmYBH"
      },
      "source": [
        "Print a, and data type"
      ],
      "id": "BSyNFbitmYBH"
    },
    {
      "cell_type": "code",
      "execution_count": null,
      "metadata": {
        "id": "GMmFsjPamYBH",
        "colab": {
          "base_uri": "https://localhost:8080/"
        },
        "outputId": "905b2961-6464-4ab9-8fa9-021958643921"
      },
      "outputs": [
        {
          "output_type": "stream",
          "name": "stdout",
          "text": [
            "0    100\n",
            "1    200\n",
            "2    300\n",
            "3    400\n",
            "dtype: int64\n",
            "<class 'pandas.core.series.Series'>\n"
          ]
        }
      ],
      "source": [
        "print(a)\n",
        "print(type(a))\n"
      ],
      "id": "GMmFsjPamYBH"
    },
    {
      "cell_type": "markdown",
      "metadata": {
        "id": "z0FryxOXmYBI"
      },
      "source": [
        "Using indexing access the element 300 from the series a."
      ],
      "id": "z0FryxOXmYBI"
    },
    {
      "cell_type": "code",
      "execution_count": null,
      "metadata": {
        "id": "wERTsh-4mYBJ",
        "colab": {
          "base_uri": "https://localhost:8080/"
        },
        "outputId": "36aaa2ae-d5f0-46f0-e16f-ebf6936b3669"
      },
      "outputs": [
        {
          "output_type": "execute_result",
          "data": {
            "text/plain": [
              "300"
            ]
          },
          "metadata": {},
          "execution_count": 5
        }
      ],
      "source": [
        "a[2]\n"
      ],
      "id": "wERTsh-4mYBJ"
    },
    {
      "cell_type": "markdown",
      "metadata": {
        "id": "HHEKyOtemYBJ"
      },
      "source": [
        "What are the values of index for series a?"
      ],
      "id": "HHEKyOtemYBJ"
    },
    {
      "cell_type": "code",
      "execution_count": null,
      "metadata": {
        "id": "uQOnSJQ4mYBJ",
        "colab": {
          "base_uri": "https://localhost:8080/"
        },
        "outputId": "e951ed1f-7bcd-496e-c581-3abbb6128842"
      },
      "outputs": [
        {
          "output_type": "stream",
          "name": "stdout",
          "text": [
            "[100 200 300 400]\n"
          ]
        }
      ],
      "source": [
        "value = a.values\n",
        "print(value)"
      ],
      "id": "uQOnSJQ4mYBJ"
    },
    {
      "cell_type": "markdown",
      "metadata": {
        "id": "EuFjG74wmYBJ"
      },
      "source": [
        "Change the index to  ['c', 'a', 'b', 'd']"
      ],
      "id": "EuFjG74wmYBJ"
    },
    {
      "cell_type": "code",
      "execution_count": null,
      "metadata": {
        "id": "1ueAAFiJmYBK",
        "colab": {
          "base_uri": "https://localhost:8080/"
        },
        "outputId": "6fa52c3e-0748-4a28-fd25-f01771638a6d"
      },
      "outputs": [
        {
          "output_type": "stream",
          "name": "stdout",
          "text": [
            "c    100\n",
            "a    200\n",
            "b    300\n",
            "d    400\n",
            "dtype: int64\n"
          ]
        }
      ],
      "source": [
        "\n",
        "a.index = ['c', 'a', 'b', 'd']\n",
        "print(a)\n",
        "\n"
      ],
      "id": "1ueAAFiJmYBK"
    },
    {
      "cell_type": "markdown",
      "metadata": {
        "id": "ZdZLyRO7mYBK"
      },
      "source": [
        "Access the value in the series with index 'd'"
      ],
      "id": "ZdZLyRO7mYBK"
    },
    {
      "cell_type": "code",
      "execution_count": null,
      "metadata": {
        "id": "oN1ce3GymYBK",
        "colab": {
          "base_uri": "https://localhost:8080/"
        },
        "outputId": "01c7b96c-a5ea-4103-c550-714f1c32a723"
      },
      "outputs": [
        {
          "output_type": "execute_result",
          "data": {
            "text/plain": [
              "400"
            ]
          },
          "metadata": {},
          "execution_count": 10
        }
      ],
      "source": [
        "a['d']\n",
        "\n"
      ],
      "id": "oN1ce3GymYBK"
    },
    {
      "cell_type": "markdown",
      "metadata": {
        "id": "eQSGwKtFmYBK"
      },
      "source": [
        "Sort the values wrt to the index and print it"
      ],
      "id": "eQSGwKtFmYBK"
    },
    {
      "cell_type": "code",
      "execution_count": null,
      "metadata": {
        "id": "-arvricBmYBL",
        "colab": {
          "base_uri": "https://localhost:8080/"
        },
        "outputId": "6453b427-eea6-41f2-97f7-926d81abc5be"
      },
      "outputs": [
        {
          "output_type": "stream",
          "name": "stdout",
          "text": [
            "a    200\n",
            "b    300\n",
            "c    100\n",
            "d    400\n",
            "dtype: int64\n"
          ]
        }
      ],
      "source": [
        "\n",
        "print(a.sort_index())\n",
        "\n"
      ],
      "id": "-arvricBmYBL"
    },
    {
      "cell_type": "markdown",
      "metadata": {
        "id": "g-fXVSK2mYBL"
      },
      "source": [
        "Create a new Pandas Series b having index as 'e', 'f', and 'g' and value 800,450,100 and print it"
      ],
      "id": "g-fXVSK2mYBL"
    },
    {
      "cell_type": "code",
      "execution_count": null,
      "metadata": {
        "id": "fAg_rI3hmYBL",
        "colab": {
          "base_uri": "https://localhost:8080/"
        },
        "outputId": "672c79af-ec3c-43da-b970-0e5fa41d0aa9"
      },
      "outputs": [
        {
          "output_type": "stream",
          "name": "stdout",
          "text": [
            "e    800\n",
            "f    450\n",
            "g    100\n",
            "dtype: int64\n"
          ]
        }
      ],
      "source": [
        "b = pd.Series([800,450,100], index = ['e', 'f', 'g'])\n",
        "print(b)\n",
        "\n",
        "\n",
        "\n",
        "\n"
      ],
      "id": "fAg_rI3hmYBL"
    },
    {
      "cell_type": "markdown",
      "metadata": {
        "id": "jWhRRtF1mYBL"
      },
      "source": [
        "Append b series at the end of a series"
      ],
      "id": "jWhRRtF1mYBL"
    },
    {
      "cell_type": "code",
      "execution_count": null,
      "metadata": {
        "id": "TBV8hkRXmYBL",
        "colab": {
          "base_uri": "https://localhost:8080/"
        },
        "outputId": "c72eef71-0c7b-4095-a69d-fdc6ec006cf9"
      },
      "outputs": [
        {
          "output_type": "stream",
          "name": "stdout",
          "text": [
            "c    100\n",
            "a    200\n",
            "b    300\n",
            "d    400\n",
            "e    800\n",
            "f    450\n",
            "g    100\n",
            "dtype: int64\n"
          ]
        }
      ],
      "source": [
        "result = pd.concat([a, b])\n",
        "print(result)\n",
        "\n"
      ],
      "id": "TBV8hkRXmYBL"
    },
    {
      "cell_type": "code",
      "execution_count": null,
      "metadata": {
        "id": "Xfm5WgBYmYBM",
        "colab": {
          "base_uri": "https://localhost:8080/"
        },
        "outputId": "b7b5f46c-01e9-4e2c-e1c2-6eed2b0fb19f"
      },
      "outputs": [
        {
          "output_type": "stream",
          "name": "stdout",
          "text": [
            "a    200\n",
            "b    300\n",
            "c    100\n",
            "d    400\n",
            "e    800\n",
            "f    450\n",
            "g    100\n",
            "dtype: int64\n"
          ]
        }
      ],
      "source": [
        "#print a again after appending b into it\n",
        "result = pd.concat([a, b])\n",
        "print(result.sort_index())\n",
        "\n",
        "\n"
      ],
      "id": "Xfm5WgBYmYBM"
    },
    {
      "cell_type": "markdown",
      "metadata": {
        "id": "6lz_BR0umYBM"
      },
      "source": [
        "Sort the values in descending order of a and print the index of the sorted series"
      ],
      "id": "6lz_BR0umYBM"
    },
    {
      "cell_type": "code",
      "execution_count": null,
      "metadata": {
        "id": "5srJV0y0mYBM",
        "colab": {
          "base_uri": "https://localhost:8080/"
        },
        "outputId": "a08d2fd5-4cd3-441e-ded8-b71b9f4f788c"
      },
      "outputs": [
        {
          "output_type": "stream",
          "name": "stdout",
          "text": [
            "e    800\n",
            "f    450\n",
            "d    400\n",
            "b    300\n",
            "a    200\n",
            "c    100\n",
            "g    100\n",
            "dtype: int64\n"
          ]
        }
      ],
      "source": [
        "result = pd.concat([a, b])\n",
        "result_sorted = result.sort_values(ascending=False)\n",
        "print(result_sorted)\n",
        "\n"
      ],
      "id": "5srJV0y0mYBM"
    },
    {
      "cell_type": "code",
      "execution_count": null,
      "metadata": {
        "id": "9OxmwQRAmYBM"
      },
      "outputs": [],
      "source": [
        "\n",
        "\n"
      ],
      "id": "9OxmwQRAmYBM"
    },
    {
      "cell_type": "markdown",
      "metadata": {
        "id": "OQ5gj4romYBM"
      },
      "source": [
        "## Pandas DataFrame"
      ],
      "id": "OQ5gj4romYBM"
    },
    {
      "cell_type": "markdown",
      "metadata": {
        "id": "tD7de_2amYBM"
      },
      "source": [
        "### Part 1"
      ],
      "id": "tD7de_2amYBM"
    },
    {
      "cell_type": "markdown",
      "metadata": {
        "id": "z_nAQa4BmYBN"
      },
      "source": [
        "Create a pandas dataframe df from the series 'a' that we used in the last section, print the dataframe"
      ],
      "id": "z_nAQa4BmYBN"
    },
    {
      "cell_type": "code",
      "execution_count": null,
      "metadata": {
        "id": "ojD-B6FvmYBN",
        "colab": {
          "base_uri": "https://localhost:8080/"
        },
        "outputId": "a7c43954-5bb9-4018-d0f1-98aceee2bafc"
      },
      "outputs": [
        {
          "output_type": "stream",
          "name": "stdout",
          "text": [
            "   values\n",
            "c     100\n",
            "a     200\n",
            "b     300\n",
            "d     400\n",
            "e     800\n",
            "f     450\n",
            "g     100\n"
          ]
        }
      ],
      "source": [
        "df = pd.DataFrame(result, columns=['values'])\n",
        "print(df)\n",
        "\n",
        "\n",
        "\n",
        "\n"
      ],
      "id": "ojD-B6FvmYBN"
    },
    {
      "cell_type": "code",
      "execution_count": null,
      "metadata": {
        "id": "2r2SyCYNmYBN"
      },
      "outputs": [],
      "source": [],
      "id": "2r2SyCYNmYBN"
    },
    {
      "cell_type": "markdown",
      "metadata": {
        "id": "yzrIH3irmYBN"
      },
      "source": [
        "What is the shape of the datafarme <br>\n",
        "(also, what does it imply?)"
      ],
      "id": "yzrIH3irmYBN"
    },
    {
      "cell_type": "code",
      "execution_count": null,
      "metadata": {
        "id": "aFo5tNrVmYBN",
        "colab": {
          "base_uri": "https://localhost:8080/"
        },
        "outputId": "676b3953-4997-4704-e251-ec9ed95c2fb2"
      },
      "outputs": [
        {
          "output_type": "execute_result",
          "data": {
            "text/plain": [
              "(7, 1)"
            ]
          },
          "metadata": {},
          "execution_count": 27
        }
      ],
      "source": [
        "df.shape\n",
        "\n",
        "\n"
      ],
      "id": "aFo5tNrVmYBN"
    },
    {
      "cell_type": "markdown",
      "metadata": {
        "id": "Dl0Hr0LSmYBO"
      },
      "source": [
        "Hey! remember shape (7,1) implies dataframe has 7 rows and 1 column."
      ],
      "id": "Dl0Hr0LSmYBO"
    },
    {
      "cell_type": "markdown",
      "metadata": {
        "id": "hwcaXl43mYBO"
      },
      "source": [
        "What is the index of the dataframe, is it same as the series 'a'"
      ],
      "id": "hwcaXl43mYBO"
    },
    {
      "cell_type": "code",
      "execution_count": null,
      "metadata": {
        "id": "1-gMxT-emYBO",
        "colab": {
          "base_uri": "https://localhost:8080/",
          "height": 206
        },
        "outputId": "eae15c26-5164-4fe9-d259-efecde7a6a49"
      },
      "outputs": [
        {
          "output_type": "execute_result",
          "data": {
            "text/plain": [
              "   values\n",
              "c     100\n",
              "a     200\n",
              "b     300\n",
              "d     400\n",
              "e     800"
            ],
            "text/html": [
              "\n",
              "  <div id=\"df-b7481a4a-5589-4e37-adf3-03fb8ecacb7d\" class=\"colab-df-container\">\n",
              "    <div>\n",
              "<style scoped>\n",
              "    .dataframe tbody tr th:only-of-type {\n",
              "        vertical-align: middle;\n",
              "    }\n",
              "\n",
              "    .dataframe tbody tr th {\n",
              "        vertical-align: top;\n",
              "    }\n",
              "\n",
              "    .dataframe thead th {\n",
              "        text-align: right;\n",
              "    }\n",
              "</style>\n",
              "<table border=\"1\" class=\"dataframe\">\n",
              "  <thead>\n",
              "    <tr style=\"text-align: right;\">\n",
              "      <th></th>\n",
              "      <th>values</th>\n",
              "    </tr>\n",
              "  </thead>\n",
              "  <tbody>\n",
              "    <tr>\n",
              "      <th>c</th>\n",
              "      <td>100</td>\n",
              "    </tr>\n",
              "    <tr>\n",
              "      <th>a</th>\n",
              "      <td>200</td>\n",
              "    </tr>\n",
              "    <tr>\n",
              "      <th>b</th>\n",
              "      <td>300</td>\n",
              "    </tr>\n",
              "    <tr>\n",
              "      <th>d</th>\n",
              "      <td>400</td>\n",
              "    </tr>\n",
              "    <tr>\n",
              "      <th>e</th>\n",
              "      <td>800</td>\n",
              "    </tr>\n",
              "  </tbody>\n",
              "</table>\n",
              "</div>\n",
              "    <div class=\"colab-df-buttons\">\n",
              "\n",
              "  <div class=\"colab-df-container\">\n",
              "    <button class=\"colab-df-convert\" onclick=\"convertToInteractive('df-b7481a4a-5589-4e37-adf3-03fb8ecacb7d')\"\n",
              "            title=\"Convert this dataframe to an interactive table.\"\n",
              "            style=\"display:none;\">\n",
              "\n",
              "  <svg xmlns=\"http://www.w3.org/2000/svg\" height=\"24px\" viewBox=\"0 -960 960 960\">\n",
              "    <path d=\"M120-120v-720h720v720H120Zm60-500h600v-160H180v160Zm220 220h160v-160H400v160Zm0 220h160v-160H400v160ZM180-400h160v-160H180v160Zm440 0h160v-160H620v160ZM180-180h160v-160H180v160Zm440 0h160v-160H620v160Z\"/>\n",
              "  </svg>\n",
              "    </button>\n",
              "\n",
              "  <style>\n",
              "    .colab-df-container {\n",
              "      display:flex;\n",
              "      gap: 12px;\n",
              "    }\n",
              "\n",
              "    .colab-df-convert {\n",
              "      background-color: #E8F0FE;\n",
              "      border: none;\n",
              "      border-radius: 50%;\n",
              "      cursor: pointer;\n",
              "      display: none;\n",
              "      fill: #1967D2;\n",
              "      height: 32px;\n",
              "      padding: 0 0 0 0;\n",
              "      width: 32px;\n",
              "    }\n",
              "\n",
              "    .colab-df-convert:hover {\n",
              "      background-color: #E2EBFA;\n",
              "      box-shadow: 0px 1px 2px rgba(60, 64, 67, 0.3), 0px 1px 3px 1px rgba(60, 64, 67, 0.15);\n",
              "      fill: #174EA6;\n",
              "    }\n",
              "\n",
              "    .colab-df-buttons div {\n",
              "      margin-bottom: 4px;\n",
              "    }\n",
              "\n",
              "    [theme=dark] .colab-df-convert {\n",
              "      background-color: #3B4455;\n",
              "      fill: #D2E3FC;\n",
              "    }\n",
              "\n",
              "    [theme=dark] .colab-df-convert:hover {\n",
              "      background-color: #434B5C;\n",
              "      box-shadow: 0px 1px 3px 1px rgba(0, 0, 0, 0.15);\n",
              "      filter: drop-shadow(0px 1px 2px rgba(0, 0, 0, 0.3));\n",
              "      fill: #FFFFFF;\n",
              "    }\n",
              "  </style>\n",
              "\n",
              "    <script>\n",
              "      const buttonEl =\n",
              "        document.querySelector('#df-b7481a4a-5589-4e37-adf3-03fb8ecacb7d button.colab-df-convert');\n",
              "      buttonEl.style.display =\n",
              "        google.colab.kernel.accessAllowed ? 'block' : 'none';\n",
              "\n",
              "      async function convertToInteractive(key) {\n",
              "        const element = document.querySelector('#df-b7481a4a-5589-4e37-adf3-03fb8ecacb7d');\n",
              "        const dataTable =\n",
              "          await google.colab.kernel.invokeFunction('convertToInteractive',\n",
              "                                                    [key], {});\n",
              "        if (!dataTable) return;\n",
              "\n",
              "        const docLinkHtml = 'Like what you see? Visit the ' +\n",
              "          '<a target=\"_blank\" href=https://colab.research.google.com/notebooks/data_table.ipynb>data table notebook</a>'\n",
              "          + ' to learn more about interactive tables.';\n",
              "        element.innerHTML = '';\n",
              "        dataTable['output_type'] = 'display_data';\n",
              "        await google.colab.output.renderOutput(dataTable, element);\n",
              "        const docLink = document.createElement('div');\n",
              "        docLink.innerHTML = docLinkHtml;\n",
              "        element.appendChild(docLink);\n",
              "      }\n",
              "    </script>\n",
              "  </div>\n",
              "\n",
              "\n",
              "<div id=\"df-59b2a3bd-56bc-4692-b975-f145b40a3cc7\">\n",
              "  <button class=\"colab-df-quickchart\" onclick=\"quickchart('df-59b2a3bd-56bc-4692-b975-f145b40a3cc7')\"\n",
              "            title=\"Suggest charts\"\n",
              "            style=\"display:none;\">\n",
              "\n",
              "<svg xmlns=\"http://www.w3.org/2000/svg\" height=\"24px\"viewBox=\"0 0 24 24\"\n",
              "     width=\"24px\">\n",
              "    <g>\n",
              "        <path d=\"M19 3H5c-1.1 0-2 .9-2 2v14c0 1.1.9 2 2 2h14c1.1 0 2-.9 2-2V5c0-1.1-.9-2-2-2zM9 17H7v-7h2v7zm4 0h-2V7h2v10zm4 0h-2v-4h2v4z\"/>\n",
              "    </g>\n",
              "</svg>\n",
              "  </button>\n",
              "\n",
              "<style>\n",
              "  .colab-df-quickchart {\n",
              "      --bg-color: #E8F0FE;\n",
              "      --fill-color: #1967D2;\n",
              "      --hover-bg-color: #E2EBFA;\n",
              "      --hover-fill-color: #174EA6;\n",
              "      --disabled-fill-color: #AAA;\n",
              "      --disabled-bg-color: #DDD;\n",
              "  }\n",
              "\n",
              "  [theme=dark] .colab-df-quickchart {\n",
              "      --bg-color: #3B4455;\n",
              "      --fill-color: #D2E3FC;\n",
              "      --hover-bg-color: #434B5C;\n",
              "      --hover-fill-color: #FFFFFF;\n",
              "      --disabled-bg-color: #3B4455;\n",
              "      --disabled-fill-color: #666;\n",
              "  }\n",
              "\n",
              "  .colab-df-quickchart {\n",
              "    background-color: var(--bg-color);\n",
              "    border: none;\n",
              "    border-radius: 50%;\n",
              "    cursor: pointer;\n",
              "    display: none;\n",
              "    fill: var(--fill-color);\n",
              "    height: 32px;\n",
              "    padding: 0;\n",
              "    width: 32px;\n",
              "  }\n",
              "\n",
              "  .colab-df-quickchart:hover {\n",
              "    background-color: var(--hover-bg-color);\n",
              "    box-shadow: 0 1px 2px rgba(60, 64, 67, 0.3), 0 1px 3px 1px rgba(60, 64, 67, 0.15);\n",
              "    fill: var(--button-hover-fill-color);\n",
              "  }\n",
              "\n",
              "  .colab-df-quickchart-complete:disabled,\n",
              "  .colab-df-quickchart-complete:disabled:hover {\n",
              "    background-color: var(--disabled-bg-color);\n",
              "    fill: var(--disabled-fill-color);\n",
              "    box-shadow: none;\n",
              "  }\n",
              "\n",
              "  .colab-df-spinner {\n",
              "    border: 2px solid var(--fill-color);\n",
              "    border-color: transparent;\n",
              "    border-bottom-color: var(--fill-color);\n",
              "    animation:\n",
              "      spin 1s steps(1) infinite;\n",
              "  }\n",
              "\n",
              "  @keyframes spin {\n",
              "    0% {\n",
              "      border-color: transparent;\n",
              "      border-bottom-color: var(--fill-color);\n",
              "      border-left-color: var(--fill-color);\n",
              "    }\n",
              "    20% {\n",
              "      border-color: transparent;\n",
              "      border-left-color: var(--fill-color);\n",
              "      border-top-color: var(--fill-color);\n",
              "    }\n",
              "    30% {\n",
              "      border-color: transparent;\n",
              "      border-left-color: var(--fill-color);\n",
              "      border-top-color: var(--fill-color);\n",
              "      border-right-color: var(--fill-color);\n",
              "    }\n",
              "    40% {\n",
              "      border-color: transparent;\n",
              "      border-right-color: var(--fill-color);\n",
              "      border-top-color: var(--fill-color);\n",
              "    }\n",
              "    60% {\n",
              "      border-color: transparent;\n",
              "      border-right-color: var(--fill-color);\n",
              "    }\n",
              "    80% {\n",
              "      border-color: transparent;\n",
              "      border-right-color: var(--fill-color);\n",
              "      border-bottom-color: var(--fill-color);\n",
              "    }\n",
              "    90% {\n",
              "      border-color: transparent;\n",
              "      border-bottom-color: var(--fill-color);\n",
              "    }\n",
              "  }\n",
              "</style>\n",
              "\n",
              "  <script>\n",
              "    async function quickchart(key) {\n",
              "      const quickchartButtonEl =\n",
              "        document.querySelector('#' + key + ' button');\n",
              "      quickchartButtonEl.disabled = true;  // To prevent multiple clicks.\n",
              "      quickchartButtonEl.classList.add('colab-df-spinner');\n",
              "      try {\n",
              "        const charts = await google.colab.kernel.invokeFunction(\n",
              "            'suggestCharts', [key], {});\n",
              "      } catch (error) {\n",
              "        console.error('Error during call to suggestCharts:', error);\n",
              "      }\n",
              "      quickchartButtonEl.classList.remove('colab-df-spinner');\n",
              "      quickchartButtonEl.classList.add('colab-df-quickchart-complete');\n",
              "    }\n",
              "    (() => {\n",
              "      let quickchartButtonEl =\n",
              "        document.querySelector('#df-59b2a3bd-56bc-4692-b975-f145b40a3cc7 button');\n",
              "      quickchartButtonEl.style.display =\n",
              "        google.colab.kernel.accessAllowed ? 'block' : 'none';\n",
              "    })();\n",
              "  </script>\n",
              "</div>\n",
              "\n",
              "    </div>\n",
              "  </div>\n"
            ],
            "application/vnd.google.colaboratory.intrinsic+json": {
              "type": "dataframe",
              "variable_name": "df",
              "summary": "{\n  \"name\": \"df\",\n  \"rows\": 7,\n  \"fields\": [\n    {\n      \"column\": \"values\",\n      \"properties\": {\n        \"dtype\": \"number\",\n        \"std\": 246,\n        \"min\": 100,\n        \"max\": 800,\n        \"num_unique_values\": 6,\n        \"samples\": [\n          100,\n          200,\n          450\n        ],\n        \"semantic_type\": \"\",\n        \"description\": \"\"\n      }\n    }\n  ]\n}"
            }
          },
          "metadata": {},
          "execution_count": 28
        }
      ],
      "source": [
        "# yep its same as the series.\n",
        "df.head()\n"
      ],
      "id": "1-gMxT-emYBO"
    },
    {
      "cell_type": "markdown",
      "metadata": {
        "id": "C5wadnBymYBO"
      },
      "source": [
        "print the head and tail of the dataframe. <br>\n",
        "Additional - (what does head and tali represent?)"
      ],
      "id": "C5wadnBymYBO"
    },
    {
      "cell_type": "code",
      "execution_count": null,
      "metadata": {
        "id": "U2vxYrPnmYBO",
        "colab": {
          "base_uri": "https://localhost:8080/",
          "height": 206
        },
        "outputId": "2370d474-ea6f-4877-a188-6621bbbd3930"
      },
      "outputs": [
        {
          "output_type": "execute_result",
          "data": {
            "text/plain": [
              "   values\n",
              "b     300\n",
              "d     400\n",
              "e     800\n",
              "f     450\n",
              "g     100"
            ],
            "text/html": [
              "\n",
              "  <div id=\"df-51051ba4-7021-4af7-92d5-d6fcf62cc4b1\" class=\"colab-df-container\">\n",
              "    <div>\n",
              "<style scoped>\n",
              "    .dataframe tbody tr th:only-of-type {\n",
              "        vertical-align: middle;\n",
              "    }\n",
              "\n",
              "    .dataframe tbody tr th {\n",
              "        vertical-align: top;\n",
              "    }\n",
              "\n",
              "    .dataframe thead th {\n",
              "        text-align: right;\n",
              "    }\n",
              "</style>\n",
              "<table border=\"1\" class=\"dataframe\">\n",
              "  <thead>\n",
              "    <tr style=\"text-align: right;\">\n",
              "      <th></th>\n",
              "      <th>values</th>\n",
              "    </tr>\n",
              "  </thead>\n",
              "  <tbody>\n",
              "    <tr>\n",
              "      <th>b</th>\n",
              "      <td>300</td>\n",
              "    </tr>\n",
              "    <tr>\n",
              "      <th>d</th>\n",
              "      <td>400</td>\n",
              "    </tr>\n",
              "    <tr>\n",
              "      <th>e</th>\n",
              "      <td>800</td>\n",
              "    </tr>\n",
              "    <tr>\n",
              "      <th>f</th>\n",
              "      <td>450</td>\n",
              "    </tr>\n",
              "    <tr>\n",
              "      <th>g</th>\n",
              "      <td>100</td>\n",
              "    </tr>\n",
              "  </tbody>\n",
              "</table>\n",
              "</div>\n",
              "    <div class=\"colab-df-buttons\">\n",
              "\n",
              "  <div class=\"colab-df-container\">\n",
              "    <button class=\"colab-df-convert\" onclick=\"convertToInteractive('df-51051ba4-7021-4af7-92d5-d6fcf62cc4b1')\"\n",
              "            title=\"Convert this dataframe to an interactive table.\"\n",
              "            style=\"display:none;\">\n",
              "\n",
              "  <svg xmlns=\"http://www.w3.org/2000/svg\" height=\"24px\" viewBox=\"0 -960 960 960\">\n",
              "    <path d=\"M120-120v-720h720v720H120Zm60-500h600v-160H180v160Zm220 220h160v-160H400v160Zm0 220h160v-160H400v160ZM180-400h160v-160H180v160Zm440 0h160v-160H620v160ZM180-180h160v-160H180v160Zm440 0h160v-160H620v160Z\"/>\n",
              "  </svg>\n",
              "    </button>\n",
              "\n",
              "  <style>\n",
              "    .colab-df-container {\n",
              "      display:flex;\n",
              "      gap: 12px;\n",
              "    }\n",
              "\n",
              "    .colab-df-convert {\n",
              "      background-color: #E8F0FE;\n",
              "      border: none;\n",
              "      border-radius: 50%;\n",
              "      cursor: pointer;\n",
              "      display: none;\n",
              "      fill: #1967D2;\n",
              "      height: 32px;\n",
              "      padding: 0 0 0 0;\n",
              "      width: 32px;\n",
              "    }\n",
              "\n",
              "    .colab-df-convert:hover {\n",
              "      background-color: #E2EBFA;\n",
              "      box-shadow: 0px 1px 2px rgba(60, 64, 67, 0.3), 0px 1px 3px 1px rgba(60, 64, 67, 0.15);\n",
              "      fill: #174EA6;\n",
              "    }\n",
              "\n",
              "    .colab-df-buttons div {\n",
              "      margin-bottom: 4px;\n",
              "    }\n",
              "\n",
              "    [theme=dark] .colab-df-convert {\n",
              "      background-color: #3B4455;\n",
              "      fill: #D2E3FC;\n",
              "    }\n",
              "\n",
              "    [theme=dark] .colab-df-convert:hover {\n",
              "      background-color: #434B5C;\n",
              "      box-shadow: 0px 1px 3px 1px rgba(0, 0, 0, 0.15);\n",
              "      filter: drop-shadow(0px 1px 2px rgba(0, 0, 0, 0.3));\n",
              "      fill: #FFFFFF;\n",
              "    }\n",
              "  </style>\n",
              "\n",
              "    <script>\n",
              "      const buttonEl =\n",
              "        document.querySelector('#df-51051ba4-7021-4af7-92d5-d6fcf62cc4b1 button.colab-df-convert');\n",
              "      buttonEl.style.display =\n",
              "        google.colab.kernel.accessAllowed ? 'block' : 'none';\n",
              "\n",
              "      async function convertToInteractive(key) {\n",
              "        const element = document.querySelector('#df-51051ba4-7021-4af7-92d5-d6fcf62cc4b1');\n",
              "        const dataTable =\n",
              "          await google.colab.kernel.invokeFunction('convertToInteractive',\n",
              "                                                    [key], {});\n",
              "        if (!dataTable) return;\n",
              "\n",
              "        const docLinkHtml = 'Like what you see? Visit the ' +\n",
              "          '<a target=\"_blank\" href=https://colab.research.google.com/notebooks/data_table.ipynb>data table notebook</a>'\n",
              "          + ' to learn more about interactive tables.';\n",
              "        element.innerHTML = '';\n",
              "        dataTable['output_type'] = 'display_data';\n",
              "        await google.colab.output.renderOutput(dataTable, element);\n",
              "        const docLink = document.createElement('div');\n",
              "        docLink.innerHTML = docLinkHtml;\n",
              "        element.appendChild(docLink);\n",
              "      }\n",
              "    </script>\n",
              "  </div>\n",
              "\n",
              "\n",
              "<div id=\"df-caf5253b-897f-4651-bd1b-1a9250e4c162\">\n",
              "  <button class=\"colab-df-quickchart\" onclick=\"quickchart('df-caf5253b-897f-4651-bd1b-1a9250e4c162')\"\n",
              "            title=\"Suggest charts\"\n",
              "            style=\"display:none;\">\n",
              "\n",
              "<svg xmlns=\"http://www.w3.org/2000/svg\" height=\"24px\"viewBox=\"0 0 24 24\"\n",
              "     width=\"24px\">\n",
              "    <g>\n",
              "        <path d=\"M19 3H5c-1.1 0-2 .9-2 2v14c0 1.1.9 2 2 2h14c1.1 0 2-.9 2-2V5c0-1.1-.9-2-2-2zM9 17H7v-7h2v7zm4 0h-2V7h2v10zm4 0h-2v-4h2v4z\"/>\n",
              "    </g>\n",
              "</svg>\n",
              "  </button>\n",
              "\n",
              "<style>\n",
              "  .colab-df-quickchart {\n",
              "      --bg-color: #E8F0FE;\n",
              "      --fill-color: #1967D2;\n",
              "      --hover-bg-color: #E2EBFA;\n",
              "      --hover-fill-color: #174EA6;\n",
              "      --disabled-fill-color: #AAA;\n",
              "      --disabled-bg-color: #DDD;\n",
              "  }\n",
              "\n",
              "  [theme=dark] .colab-df-quickchart {\n",
              "      --bg-color: #3B4455;\n",
              "      --fill-color: #D2E3FC;\n",
              "      --hover-bg-color: #434B5C;\n",
              "      --hover-fill-color: #FFFFFF;\n",
              "      --disabled-bg-color: #3B4455;\n",
              "      --disabled-fill-color: #666;\n",
              "  }\n",
              "\n",
              "  .colab-df-quickchart {\n",
              "    background-color: var(--bg-color);\n",
              "    border: none;\n",
              "    border-radius: 50%;\n",
              "    cursor: pointer;\n",
              "    display: none;\n",
              "    fill: var(--fill-color);\n",
              "    height: 32px;\n",
              "    padding: 0;\n",
              "    width: 32px;\n",
              "  }\n",
              "\n",
              "  .colab-df-quickchart:hover {\n",
              "    background-color: var(--hover-bg-color);\n",
              "    box-shadow: 0 1px 2px rgba(60, 64, 67, 0.3), 0 1px 3px 1px rgba(60, 64, 67, 0.15);\n",
              "    fill: var(--button-hover-fill-color);\n",
              "  }\n",
              "\n",
              "  .colab-df-quickchart-complete:disabled,\n",
              "  .colab-df-quickchart-complete:disabled:hover {\n",
              "    background-color: var(--disabled-bg-color);\n",
              "    fill: var(--disabled-fill-color);\n",
              "    box-shadow: none;\n",
              "  }\n",
              "\n",
              "  .colab-df-spinner {\n",
              "    border: 2px solid var(--fill-color);\n",
              "    border-color: transparent;\n",
              "    border-bottom-color: var(--fill-color);\n",
              "    animation:\n",
              "      spin 1s steps(1) infinite;\n",
              "  }\n",
              "\n",
              "  @keyframes spin {\n",
              "    0% {\n",
              "      border-color: transparent;\n",
              "      border-bottom-color: var(--fill-color);\n",
              "      border-left-color: var(--fill-color);\n",
              "    }\n",
              "    20% {\n",
              "      border-color: transparent;\n",
              "      border-left-color: var(--fill-color);\n",
              "      border-top-color: var(--fill-color);\n",
              "    }\n",
              "    30% {\n",
              "      border-color: transparent;\n",
              "      border-left-color: var(--fill-color);\n",
              "      border-top-color: var(--fill-color);\n",
              "      border-right-color: var(--fill-color);\n",
              "    }\n",
              "    40% {\n",
              "      border-color: transparent;\n",
              "      border-right-color: var(--fill-color);\n",
              "      border-top-color: var(--fill-color);\n",
              "    }\n",
              "    60% {\n",
              "      border-color: transparent;\n",
              "      border-right-color: var(--fill-color);\n",
              "    }\n",
              "    80% {\n",
              "      border-color: transparent;\n",
              "      border-right-color: var(--fill-color);\n",
              "      border-bottom-color: var(--fill-color);\n",
              "    }\n",
              "    90% {\n",
              "      border-color: transparent;\n",
              "      border-bottom-color: var(--fill-color);\n",
              "    }\n",
              "  }\n",
              "</style>\n",
              "\n",
              "  <script>\n",
              "    async function quickchart(key) {\n",
              "      const quickchartButtonEl =\n",
              "        document.querySelector('#' + key + ' button');\n",
              "      quickchartButtonEl.disabled = true;  // To prevent multiple clicks.\n",
              "      quickchartButtonEl.classList.add('colab-df-spinner');\n",
              "      try {\n",
              "        const charts = await google.colab.kernel.invokeFunction(\n",
              "            'suggestCharts', [key], {});\n",
              "      } catch (error) {\n",
              "        console.error('Error during call to suggestCharts:', error);\n",
              "      }\n",
              "      quickchartButtonEl.classList.remove('colab-df-spinner');\n",
              "      quickchartButtonEl.classList.add('colab-df-quickchart-complete');\n",
              "    }\n",
              "    (() => {\n",
              "      let quickchartButtonEl =\n",
              "        document.querySelector('#df-caf5253b-897f-4651-bd1b-1a9250e4c162 button');\n",
              "      quickchartButtonEl.style.display =\n",
              "        google.colab.kernel.accessAllowed ? 'block' : 'none';\n",
              "    })();\n",
              "  </script>\n",
              "</div>\n",
              "\n",
              "    </div>\n",
              "  </div>\n"
            ],
            "application/vnd.google.colaboratory.intrinsic+json": {
              "type": "dataframe",
              "summary": "{\n  \"name\": \"df\",\n  \"rows\": 5,\n  \"fields\": [\n    {\n      \"column\": \"values\",\n      \"properties\": {\n        \"dtype\": \"number\",\n        \"std\": 255,\n        \"min\": 100,\n        \"max\": 800,\n        \"num_unique_values\": 5,\n        \"samples\": [\n          400,\n          100,\n          800\n        ],\n        \"semantic_type\": \"\",\n        \"description\": \"\"\n      }\n    }\n  ]\n}"
            }
          },
          "metadata": {},
          "execution_count": 29
        }
      ],
      "source": [
        "\n",
        "df.tail()\n"
      ],
      "id": "U2vxYrPnmYBO"
    },
    {
      "cell_type": "code",
      "execution_count": null,
      "metadata": {
        "id": "nikOdGC_mYBO"
      },
      "outputs": [],
      "source": [
        "\n",
        "\n"
      ],
      "id": "nikOdGC_mYBO"
    },
    {
      "cell_type": "markdown",
      "metadata": {
        "id": "Ci2tiwbBmYBO"
      },
      "source": [
        "Rename the column of the dataframe as 'points'"
      ],
      "id": "Ci2tiwbBmYBO"
    },
    {
      "cell_type": "code",
      "execution_count": null,
      "metadata": {
        "id": "K3OsbVD3mYBP",
        "colab": {
          "base_uri": "https://localhost:8080/"
        },
        "outputId": "1222db34-3a07-4d2c-d92f-46e339115729"
      },
      "outputs": [
        {
          "output_type": "stream",
          "name": "stdout",
          "text": [
            "   points\n",
            "c     100\n",
            "a     200\n",
            "b     300\n",
            "d     400\n",
            "e     800\n",
            "f     450\n",
            "g     100\n"
          ]
        }
      ],
      "source": [
        "\n",
        "df = df.rename(columns={'values': 'points'})\n",
        "print(df)\n",
        "\n"
      ],
      "id": "K3OsbVD3mYBP"
    },
    {
      "cell_type": "markdown",
      "metadata": {
        "id": "bBV0VfzzmYBP"
      },
      "source": [
        "Create another Series 'fruits', which contains random names of fruits from ['orange','mango','apple']. The series should contain 7 elements, randomly selected from ['orange','mango','apple']"
      ],
      "id": "bBV0VfzzmYBP"
    },
    {
      "cell_type": "code",
      "execution_count": null,
      "metadata": {
        "id": "baUmpsuhmYBP",
        "colab": {
          "base_uri": "https://localhost:8080/"
        },
        "outputId": "2d6440d8-7ed8-4e5e-981c-7cfe8e418778"
      },
      "outputs": [
        {
          "output_type": "stream",
          "name": "stdout",
          "text": [
            "0     mango\n",
            "1     mango\n",
            "2    orange\n",
            "3     apple\n",
            "4     mango\n",
            "5     mango\n",
            "6     mango\n",
            "dtype: object\n"
          ]
        }
      ],
      "source": [
        "#Create fruits\n",
        "import random\n",
        "fruits_list = ['orange', 'mango', 'apple']\n",
        "fruits = pd.Series(random.choices(fruits_list, k=7))\n",
        "print(fruits)\n",
        "\n",
        "\n",
        "\n"
      ],
      "id": "baUmpsuhmYBP"
    },
    {
      "cell_type": "code",
      "execution_count": null,
      "metadata": {
        "id": "QrbnjM8FmYBP",
        "colab": {
          "base_uri": "https://localhost:8080/"
        },
        "outputId": "d3999637-9fbb-4c42-b5f0-a0571d45f42a"
      },
      "outputs": [
        {
          "output_type": "stream",
          "name": "stdout",
          "text": [
            "0     mango\n",
            "1     mango\n",
            "2    orange\n",
            "3     apple\n",
            "4     mango\n",
            "5     mango\n",
            "6     mango\n",
            "dtype: object\n"
          ]
        }
      ],
      "source": [
        "#Create series fruits out of fruits array\n",
        "\n",
        "fruits_series = pd.Series(fruits)\n",
        "print(fruits_series)\n",
        "\n",
        "\n"
      ],
      "id": "QrbnjM8FmYBP"
    },
    {
      "cell_type": "markdown",
      "metadata": {
        "id": "20slMbq5mYBP"
      },
      "source": [
        "Change the index of fruits to the index of dataframe df"
      ],
      "id": "20slMbq5mYBP"
    },
    {
      "cell_type": "code",
      "execution_count": null,
      "metadata": {
        "id": "1n4THBgkmYBQ",
        "colab": {
          "base_uri": "https://localhost:8080/"
        },
        "outputId": "22831e68-451b-444e-fc00-a3fefef62841"
      },
      "outputs": [
        {
          "output_type": "stream",
          "name": "stdout",
          "text": [
            "c     mango\n",
            "a     mango\n",
            "b    orange\n",
            "d     apple\n",
            "e     mango\n",
            "f     mango\n",
            "g     mango\n",
            "dtype: object\n"
          ]
        }
      ],
      "source": [
        "\n",
        "\n",
        "fruits.index = df.index\n",
        "print(fruits)\n",
        "\n",
        "\n"
      ],
      "id": "1n4THBgkmYBQ"
    },
    {
      "cell_type": "markdown",
      "metadata": {
        "id": "oPv8dJ_2mYBQ"
      },
      "source": [
        "Add this fruits series as a new column to the dataframe df with its column name as 'fruits'\n",
        "<br>print the head of the dataframe to verify"
      ],
      "id": "oPv8dJ_2mYBQ"
    },
    {
      "cell_type": "code",
      "execution_count": null,
      "metadata": {
        "id": "tit_GDscmYBQ",
        "colab": {
          "base_uri": "https://localhost:8080/"
        },
        "outputId": "be3b7eb0-ab68-4640-feae-e90001e41985"
      },
      "outputs": [
        {
          "output_type": "stream",
          "name": "stdout",
          "text": [
            "   points  fruits\n",
            "c     100   mango\n",
            "a     200   mango\n",
            "b     300  orange\n",
            "d     400   apple\n",
            "e     800   mango\n"
          ]
        }
      ],
      "source": [
        "\n",
        "df['fruits'] = fruits\n",
        "print(df.head())\n",
        "\n",
        "\n"
      ],
      "id": "tit_GDscmYBQ"
    },
    {
      "cell_type": "markdown",
      "metadata": {
        "id": "ACsvenslmYBQ"
      },
      "source": [
        "## Pandas Concatenation"
      ],
      "id": "ACsvenslmYBQ"
    },
    {
      "cell_type": "markdown",
      "metadata": {
        "id": "cwgg82N0mYBQ"
      },
      "source": [
        "Create a dataframe  d1 where the cols are  ‘city’ : [‘Chandigarh’, ‘Delhi’, ‘Kanpur’, ‘Chennai’, ‘Manali’ ] and ‘Temperature’ : [15, 22, 20, 26,-2]"
      ],
      "id": "cwgg82N0mYBQ"
    },
    {
      "cell_type": "code",
      "execution_count": null,
      "metadata": {
        "id": "09tWwU18mYBR"
      },
      "outputs": [],
      "source": [
        "\n",
        "data = {\n",
        "    'city': ['Chandigarh', 'Delhi', 'Kanpur', 'Chennai', 'Manali'],\n",
        "    'Temperature': [15, 22, 20, 26, -2]\n",
        "}\n",
        "\n",
        "d1 = pd.DataFrame(data)\n",
        "\n",
        "\n",
        "\n"
      ],
      "id": "09tWwU18mYBR"
    },
    {
      "cell_type": "markdown",
      "metadata": {
        "id": "XAquuUx_mYBR"
      },
      "source": [
        "Print(d1)"
      ],
      "id": "XAquuUx_mYBR"
    },
    {
      "cell_type": "code",
      "execution_count": null,
      "metadata": {
        "id": "tEaf6dUVmYBR",
        "colab": {
          "base_uri": "https://localhost:8080/"
        },
        "outputId": "a9fd3f97-7b68-430d-f44c-d6e55a27ddfa"
      },
      "outputs": [
        {
          "output_type": "stream",
          "name": "stdout",
          "text": [
            "         city  Temperature\n",
            "0  Chandigarh           15\n",
            "1       Delhi           22\n",
            "2      Kanpur           20\n",
            "3     Chennai           26\n",
            "4      Manali           -2\n"
          ]
        }
      ],
      "source": [
        "print(d1)\n",
        "\n",
        "\n"
      ],
      "id": "tEaf6dUVmYBR"
    },
    {
      "cell_type": "markdown",
      "metadata": {
        "id": "YmZ9u-4FmYBR"
      },
      "source": [
        "What is the shape of d1."
      ],
      "id": "YmZ9u-4FmYBR"
    },
    {
      "cell_type": "code",
      "source": [
        "d1.shape"
      ],
      "metadata": {
        "colab": {
          "base_uri": "https://localhost:8080/"
        },
        "id": "otHBirGZSXg5",
        "outputId": "68a651e6-32d9-4a96-dba6-13365e8f85c3"
      },
      "id": "otHBirGZSXg5",
      "execution_count": null,
      "outputs": [
        {
          "output_type": "execute_result",
          "data": {
            "text/plain": [
              "(5, 2)"
            ]
          },
          "metadata": {},
          "execution_count": 42
        }
      ]
    },
    {
      "cell_type": "code",
      "execution_count": null,
      "metadata": {
        "id": "upPyfWR7mYBR"
      },
      "outputs": [],
      "source": [
        "\n",
        "\n",
        "\n"
      ],
      "id": "upPyfWR7mYBR"
    },
    {
      "cell_type": "markdown",
      "metadata": {
        "id": "JtBQ5SLtmYBS"
      },
      "source": [
        "Set city = d1['city']"
      ],
      "id": "JtBQ5SLtmYBS"
    },
    {
      "cell_type": "code",
      "execution_count": null,
      "metadata": {
        "id": "mzE78QzrmYBS"
      },
      "outputs": [],
      "source": [
        "set_city = d1['city']\n",
        "\n",
        "\n"
      ],
      "id": "mzE78QzrmYBS"
    },
    {
      "cell_type": "markdown",
      "metadata": {
        "id": "WubWnFIcmYBS"
      },
      "source": [
        "print city <br>\n",
        "What is the type of city."
      ],
      "id": "WubWnFIcmYBS"
    },
    {
      "cell_type": "code",
      "execution_count": null,
      "metadata": {
        "id": "6d4EjYTemYBS",
        "colab": {
          "base_uri": "https://localhost:8080/"
        },
        "outputId": "c49643e2-d64c-4193-89ac-4f3d7f49102a"
      },
      "outputs": [
        {
          "output_type": "stream",
          "name": "stdout",
          "text": [
            "0    Chandigarh\n",
            "1         Delhi\n",
            "2        Kanpur\n",
            "3       Chennai\n",
            "4        Manali\n",
            "Name: city, dtype: object\n",
            "<class 'pandas.core.series.Series'>\n"
          ]
        }
      ],
      "source": [
        "print(set_city)\n",
        "print(type(set_city))\n",
        "\n",
        "\n"
      ],
      "id": "6d4EjYTemYBS"
    },
    {
      "cell_type": "markdown",
      "metadata": {
        "id": "uUdrLgg6mYBS"
      },
      "source": [
        "Create another datafeame 'd2' where the columns are <br>\n",
        "'city' - ['Bengalaru','Coimbatore','Srirangam','Pondicherry'] <br>\n",
        "'Temperature' - [24,35,36,39]"
      ],
      "id": "uUdrLgg6mYBS"
    },
    {
      "cell_type": "code",
      "execution_count": null,
      "metadata": {
        "id": "CFBCGcvhmYBS",
        "colab": {
          "base_uri": "https://localhost:8080/"
        },
        "outputId": "30454c80-3a57-42a9-cf83-b888f65dd50c"
      },
      "outputs": [
        {
          "output_type": "stream",
          "name": "stdout",
          "text": [
            "          city  Temperature\n",
            "0    Bengaluru           24\n",
            "1   Coimbatore           35\n",
            "2    Srirangam           36\n",
            "3  Pondicherry           39\n"
          ]
        }
      ],
      "source": [
        "data2 = {\n",
        "    'city': ['Bengaluru', 'Coimbatore', 'Srirangam', 'Pondicherry'],\n",
        "    'Temperature': [24, 35, 36, 39]\n",
        "}\n",
        "\n",
        "d2 = pd.DataFrame(data2)\n",
        "print(d2)\n",
        "\n",
        "\n"
      ],
      "id": "CFBCGcvhmYBS"
    },
    {
      "cell_type": "markdown",
      "metadata": {
        "id": "HivVdLN5mYBT"
      },
      "source": [
        "print the shape of this dataframe"
      ],
      "id": "HivVdLN5mYBT"
    },
    {
      "cell_type": "code",
      "execution_count": null,
      "metadata": {
        "id": "9FFgtQJhmYBT",
        "colab": {
          "base_uri": "https://localhost:8080/"
        },
        "outputId": "f60e241c-99c1-4312-dc30-0411cb877d93"
      },
      "outputs": [
        {
          "output_type": "execute_result",
          "data": {
            "text/plain": [
              "(4, 2)"
            ]
          },
          "metadata": {},
          "execution_count": 47
        }
      ],
      "source": [
        "\n",
        "d2.shape"
      ],
      "id": "9FFgtQJhmYBT"
    },
    {
      "cell_type": "markdown",
      "metadata": {
        "id": "UK38h5ktmYBT"
      },
      "source": [
        "merge the two dataframes together, save it in a new dataframe named 'd3'"
      ],
      "id": "UK38h5ktmYBT"
    },
    {
      "cell_type": "code",
      "execution_count": null,
      "metadata": {
        "id": "GMbOPfjCmYBT",
        "colab": {
          "base_uri": "https://localhost:8080/"
        },
        "outputId": "f810b80a-4bfe-468c-d9a2-c52da9ad97f0"
      },
      "outputs": [
        {
          "output_type": "stream",
          "name": "stdout",
          "text": [
            "          city  Temperature\n",
            "0   Chandigarh           15\n",
            "1        Delhi           22\n",
            "2       Kanpur           20\n",
            "3      Chennai           26\n",
            "4       Manali           -2\n",
            "0    Bengaluru           24\n",
            "1   Coimbatore           35\n",
            "2    Srirangam           36\n",
            "3  Pondicherry           39\n"
          ]
        }
      ],
      "source": [
        "d3 = pd.concat([d1, d2])\n",
        "print(d3)\n",
        "\n",
        "\n",
        "\n"
      ],
      "id": "GMbOPfjCmYBT"
    },
    {
      "cell_type": "markdown",
      "metadata": {
        "id": "1dGlNGzjmYBT"
      },
      "source": [
        "Select the part of the dataframe such that it contains cities wherer temp is less then or equal to 20 <br>\n",
        "How many cities are there?"
      ],
      "id": "1dGlNGzjmYBT"
    },
    {
      "cell_type": "code",
      "execution_count": null,
      "metadata": {
        "id": "1vtC2UkgmYBT",
        "colab": {
          "base_uri": "https://localhost:8080/"
        },
        "outputId": "827ea23d-8dcd-442c-97b2-da0a7ad210fb"
      },
      "outputs": [
        {
          "output_type": "stream",
          "name": "stdout",
          "text": [
            "         city  Temperature\n",
            "0  Chandigarh           15\n",
            "2      Kanpur           20\n",
            "4      Manali           -2\n",
            "(3, 2)\n"
          ]
        }
      ],
      "source": [
        "selected_cities = d3[d3['Temperature'] <= 20]\n",
        "print(selected_cities)\n",
        "print(selected_cities.shape)\n",
        "\n",
        "\n"
      ],
      "id": "1vtC2UkgmYBT"
    },
    {
      "cell_type": "markdown",
      "metadata": {
        "id": "82QIQRQUmYBT"
      },
      "source": [
        "Select the part of the dataframe such that it contains the cities where tempearature greater than or equal to 35"
      ],
      "id": "82QIQRQUmYBT"
    },
    {
      "cell_type": "code",
      "execution_count": null,
      "metadata": {
        "id": "Ea_hMtyGmYBU",
        "colab": {
          "base_uri": "https://localhost:8080/"
        },
        "outputId": "bd512a3b-787b-400a-c8be-a4359e88e956"
      },
      "outputs": [
        {
          "output_type": "stream",
          "name": "stdout",
          "text": [
            "          city  Temperature\n",
            "1   Coimbatore           35\n",
            "2    Srirangam           36\n",
            "3  Pondicherry           39\n"
          ]
        }
      ],
      "source": [
        "hot_cities = d3[d3['Temperature'] >= 35]\n",
        "\n",
        "print(hot_cities)\n",
        "\n",
        "\n"
      ],
      "id": "Ea_hMtyGmYBU"
    },
    {
      "cell_type": "markdown",
      "metadata": {
        "id": "BrYscXpWmYBU"
      },
      "source": [
        "## Applying functions to columns and creating new columns"
      ],
      "id": "BrYscXpWmYBU"
    },
    {
      "cell_type": "markdown",
      "metadata": {
        "id": "7Z4ioDxtmYBU"
      },
      "source": [
        "We need to create another column in d3, which contains  a boolean value for each city to indicate whether it's a union territory or not.\n",
        "- HINT: Chandigarh, Pondicherry and Delhi are only 3 union territories here.\n"
      ],
      "id": "7Z4ioDxtmYBU"
    },
    {
      "cell_type": "code",
      "execution_count": null,
      "metadata": {
        "id": "FR2wgv6tmYBU"
      },
      "outputs": [],
      "source": [
        "# write function here\n",
        "\n",
        "def is_ut(city):\n",
        "    union_territories = ['Chandigarh', 'Pondicherry', 'Delhi']\n",
        "    return city in union_territories\n",
        "\n",
        "d3['is_ut'] = d3['city'].apply(is_ut)\n",
        "\n",
        "\n"
      ],
      "id": "FR2wgv6tmYBU"
    },
    {
      "cell_type": "code",
      "execution_count": null,
      "metadata": {
        "id": "0hd7QjComYBU",
        "colab": {
          "base_uri": "https://localhost:8080/"
        },
        "outputId": "06ab3245-67da-4738-ea0a-c0a1af4c4690"
      },
      "outputs": [
        {
          "output_type": "stream",
          "name": "stdout",
          "text": [
            "          city  Temperature  is_ut\n",
            "0   Chandigarh           15   True\n",
            "1        Delhi           22   True\n",
            "2       Kanpur           20  False\n",
            "3      Chennai           26  False\n",
            "4       Manali           -2  False\n",
            "0    Bengaluru           24  False\n",
            "1   Coimbatore           35  False\n",
            "2    Srirangam           36  False\n",
            "3  Pondicherry           39   True\n"
          ]
        }
      ],
      "source": [
        "# print d3\n",
        "print(d3)\n"
      ],
      "id": "0hd7QjComYBU"
    },
    {
      "cell_type": "markdown",
      "metadata": {
        "id": "z88YETlMmYBU"
      },
      "source": [
        "The temperatures mentioned in ‘Temperature’ column are mentioned in Celsius, we need another column which contains the same in Fahrenheit."
      ],
      "id": "z88YETlMmYBU"
    },
    {
      "cell_type": "markdown",
      "metadata": {
        "id": "ywp07m-xmYBU"
      },
      "source": [
        "HINT -\n",
        "- Define a function c_to_f which takes input temp in celsius and returns a value with temperature in Fahrenheit.\n",
        "- To check: c_to_f(10) should return 50.\n"
      ],
      "id": "ywp07m-xmYBU"
    },
    {
      "cell_type": "code",
      "execution_count": null,
      "metadata": {
        "id": "V0x_0IAAmYBV"
      },
      "outputs": [],
      "source": [
        "# write function here\n",
        "def c_to_f(celsius):\n",
        "    fahrenheit = (celsius * 9/5) + 32\n",
        "    return fahrenheit\n",
        "\n",
        "# Apply the function to create a new 'Temperature_F' column\n",
        "d3['Temperature_F'] = d3['Temperature'].apply(c_to_f)\n",
        "\n",
        "\n",
        "\n",
        "\n"
      ],
      "id": "V0x_0IAAmYBV"
    },
    {
      "cell_type": "code",
      "execution_count": null,
      "metadata": {
        "id": "Wc9meranmYBV",
        "colab": {
          "base_uri": "https://localhost:8080/"
        },
        "outputId": "7789c2d5-ac03-4909-c183-bc23c26c4fb0"
      },
      "outputs": [
        {
          "output_type": "execute_result",
          "data": {
            "text/plain": [
              "50.0"
            ]
          },
          "metadata": {},
          "execution_count": 56
        }
      ],
      "source": [
        "# check function c_to_f(10)\n",
        "c_to_f(10)\n",
        "\n"
      ],
      "id": "Wc9meranmYBV"
    },
    {
      "cell_type": "code",
      "execution_count": null,
      "metadata": {
        "id": "H79GUcoImYBV",
        "colab": {
          "base_uri": "https://localhost:8080/"
        },
        "outputId": "bcde585a-7e07-4cd9-8f4b-39d78cc3515e"
      },
      "outputs": [
        {
          "output_type": "stream",
          "name": "stdout",
          "text": [
            "          city  Temperature  is_ut  Temperature_F\n",
            "0   Chandigarh           15   True           59.0\n",
            "1        Delhi           22   True           71.6\n",
            "2       Kanpur           20  False           68.0\n",
            "3      Chennai           26  False           78.8\n",
            "4       Manali           -2  False           28.4\n",
            "0    Bengaluru           24  False           75.2\n",
            "1   Coimbatore           35  False           95.0\n",
            "2    Srirangam           36  False           96.8\n",
            "3  Pondicherry           39   True          102.2\n"
          ]
        }
      ],
      "source": [
        "# apply function c_to_f to d3 to create a column 'temp_farenhiet'\n",
        "def c_to_f(temp_celsius):\n",
        "    return (temp_celsius * 9/5) + 32\n",
        "\n",
        "# Apply the function to create a new column 'temp_fahrenheit'\n",
        "d3['Temperature_F'] = d3['Temperature'].apply(c_to_f)\n",
        "\n",
        "# Display the DataFrame\n",
        "print(d3)\n",
        "\n"
      ],
      "id": "H79GUcoImYBV"
    },
    {
      "cell_type": "markdown",
      "metadata": {
        "id": "Wj0p6JKHmYBV"
      },
      "source": [
        "## Indexing and selecting rows in DataFrame"
      ],
      "id": "Wj0p6JKHmYBV"
    },
    {
      "cell_type": "markdown",
      "metadata": {
        "id": "fFitRJy2mYBV"
      },
      "source": [
        "Select subset of the dataframe d1 such that it contains the cities which are union territories."
      ],
      "id": "fFitRJy2mYBV"
    },
    {
      "cell_type": "code",
      "execution_count": null,
      "metadata": {
        "id": "Kg8OSVz0mYBV",
        "colab": {
          "base_uri": "https://localhost:8080/"
        },
        "outputId": "869b8ba7-2518-4b1f-f48f-a24cb66c076a"
      },
      "outputs": [
        {
          "output_type": "stream",
          "name": "stdout",
          "text": [
            "          city  Temperature  is_ut  Temperature_F\n",
            "0   Chandigarh           15   True           59.0\n",
            "1        Delhi           22   True           71.6\n",
            "3  Pondicherry           39   True          102.2\n"
          ]
        }
      ],
      "source": [
        "\n",
        "ut_cities = d3[d3['is_ut'] == True]\n",
        "\n",
        "print(ut_cities)\n"
      ],
      "id": "Kg8OSVz0mYBV"
    },
    {
      "cell_type": "markdown",
      "metadata": {
        "id": "XnxQl4ZPmYBV"
      },
      "source": [
        "Select a subset of the dataframe d1 such that it contains the cities which only have temperature above 90 Farenhiet."
      ],
      "id": "XnxQl4ZPmYBV"
    },
    {
      "cell_type": "code",
      "execution_count": null,
      "metadata": {
        "id": "9o62VSn7mYBV",
        "colab": {
          "base_uri": "https://localhost:8080/"
        },
        "outputId": "ee9c3478-3368-4b2a-a90c-3747d5aef162"
      },
      "outputs": [
        {
          "output_type": "stream",
          "name": "stdout",
          "text": [
            "          city  Temperature  is_ut  Temperature_F\n",
            "1   Coimbatore           35  False           95.0\n",
            "2    Srirangam           36  False           96.8\n",
            "3  Pondicherry           39   True          102.2\n"
          ]
        }
      ],
      "source": [
        "hot_cities = d3[d3['Temperature_F'] > 90]\n",
        "\n",
        "print(hot_cities)\n",
        "\n",
        "\n"
      ],
      "id": "9o62VSn7mYBV"
    },
    {
      "cell_type": "markdown",
      "metadata": {
        "id": "IQq7K2EtmYBW"
      },
      "source": [
        "Select only the first three rows of the dataframe d1.\n"
      ],
      "id": "IQq7K2EtmYBW"
    },
    {
      "cell_type": "code",
      "execution_count": null,
      "metadata": {
        "id": "PlmVOyAAmYBW",
        "colab": {
          "base_uri": "https://localhost:8080/",
          "height": 143
        },
        "outputId": "ba9d5356-83e3-4558-b55b-0a3ea305e186"
      },
      "outputs": [
        {
          "output_type": "execute_result",
          "data": {
            "text/plain": [
              "         city  Temperature\n",
              "0  Chandigarh           15\n",
              "1       Delhi           22\n",
              "2      Kanpur           20"
            ],
            "text/html": [
              "\n",
              "  <div id=\"df-77f0d315-9b96-4731-aa4e-da2f993d2b2b\" class=\"colab-df-container\">\n",
              "    <div>\n",
              "<style scoped>\n",
              "    .dataframe tbody tr th:only-of-type {\n",
              "        vertical-align: middle;\n",
              "    }\n",
              "\n",
              "    .dataframe tbody tr th {\n",
              "        vertical-align: top;\n",
              "    }\n",
              "\n",
              "    .dataframe thead th {\n",
              "        text-align: right;\n",
              "    }\n",
              "</style>\n",
              "<table border=\"1\" class=\"dataframe\">\n",
              "  <thead>\n",
              "    <tr style=\"text-align: right;\">\n",
              "      <th></th>\n",
              "      <th>city</th>\n",
              "      <th>Temperature</th>\n",
              "    </tr>\n",
              "  </thead>\n",
              "  <tbody>\n",
              "    <tr>\n",
              "      <th>0</th>\n",
              "      <td>Chandigarh</td>\n",
              "      <td>15</td>\n",
              "    </tr>\n",
              "    <tr>\n",
              "      <th>1</th>\n",
              "      <td>Delhi</td>\n",
              "      <td>22</td>\n",
              "    </tr>\n",
              "    <tr>\n",
              "      <th>2</th>\n",
              "      <td>Kanpur</td>\n",
              "      <td>20</td>\n",
              "    </tr>\n",
              "  </tbody>\n",
              "</table>\n",
              "</div>\n",
              "    <div class=\"colab-df-buttons\">\n",
              "\n",
              "  <div class=\"colab-df-container\">\n",
              "    <button class=\"colab-df-convert\" onclick=\"convertToInteractive('df-77f0d315-9b96-4731-aa4e-da2f993d2b2b')\"\n",
              "            title=\"Convert this dataframe to an interactive table.\"\n",
              "            style=\"display:none;\">\n",
              "\n",
              "  <svg xmlns=\"http://www.w3.org/2000/svg\" height=\"24px\" viewBox=\"0 -960 960 960\">\n",
              "    <path d=\"M120-120v-720h720v720H120Zm60-500h600v-160H180v160Zm220 220h160v-160H400v160Zm0 220h160v-160H400v160ZM180-400h160v-160H180v160Zm440 0h160v-160H620v160ZM180-180h160v-160H180v160Zm440 0h160v-160H620v160Z\"/>\n",
              "  </svg>\n",
              "    </button>\n",
              "\n",
              "  <style>\n",
              "    .colab-df-container {\n",
              "      display:flex;\n",
              "      gap: 12px;\n",
              "    }\n",
              "\n",
              "    .colab-df-convert {\n",
              "      background-color: #E8F0FE;\n",
              "      border: none;\n",
              "      border-radius: 50%;\n",
              "      cursor: pointer;\n",
              "      display: none;\n",
              "      fill: #1967D2;\n",
              "      height: 32px;\n",
              "      padding: 0 0 0 0;\n",
              "      width: 32px;\n",
              "    }\n",
              "\n",
              "    .colab-df-convert:hover {\n",
              "      background-color: #E2EBFA;\n",
              "      box-shadow: 0px 1px 2px rgba(60, 64, 67, 0.3), 0px 1px 3px 1px rgba(60, 64, 67, 0.15);\n",
              "      fill: #174EA6;\n",
              "    }\n",
              "\n",
              "    .colab-df-buttons div {\n",
              "      margin-bottom: 4px;\n",
              "    }\n",
              "\n",
              "    [theme=dark] .colab-df-convert {\n",
              "      background-color: #3B4455;\n",
              "      fill: #D2E3FC;\n",
              "    }\n",
              "\n",
              "    [theme=dark] .colab-df-convert:hover {\n",
              "      background-color: #434B5C;\n",
              "      box-shadow: 0px 1px 3px 1px rgba(0, 0, 0, 0.15);\n",
              "      filter: drop-shadow(0px 1px 2px rgba(0, 0, 0, 0.3));\n",
              "      fill: #FFFFFF;\n",
              "    }\n",
              "  </style>\n",
              "\n",
              "    <script>\n",
              "      const buttonEl =\n",
              "        document.querySelector('#df-77f0d315-9b96-4731-aa4e-da2f993d2b2b button.colab-df-convert');\n",
              "      buttonEl.style.display =\n",
              "        google.colab.kernel.accessAllowed ? 'block' : 'none';\n",
              "\n",
              "      async function convertToInteractive(key) {\n",
              "        const element = document.querySelector('#df-77f0d315-9b96-4731-aa4e-da2f993d2b2b');\n",
              "        const dataTable =\n",
              "          await google.colab.kernel.invokeFunction('convertToInteractive',\n",
              "                                                    [key], {});\n",
              "        if (!dataTable) return;\n",
              "\n",
              "        const docLinkHtml = 'Like what you see? Visit the ' +\n",
              "          '<a target=\"_blank\" href=https://colab.research.google.com/notebooks/data_table.ipynb>data table notebook</a>'\n",
              "          + ' to learn more about interactive tables.';\n",
              "        element.innerHTML = '';\n",
              "        dataTable['output_type'] = 'display_data';\n",
              "        await google.colab.output.renderOutput(dataTable, element);\n",
              "        const docLink = document.createElement('div');\n",
              "        docLink.innerHTML = docLinkHtml;\n",
              "        element.appendChild(docLink);\n",
              "      }\n",
              "    </script>\n",
              "  </div>\n",
              "\n",
              "\n",
              "<div id=\"df-02143fe7-298d-42f8-85b7-788f97abfb76\">\n",
              "  <button class=\"colab-df-quickchart\" onclick=\"quickchart('df-02143fe7-298d-42f8-85b7-788f97abfb76')\"\n",
              "            title=\"Suggest charts\"\n",
              "            style=\"display:none;\">\n",
              "\n",
              "<svg xmlns=\"http://www.w3.org/2000/svg\" height=\"24px\"viewBox=\"0 0 24 24\"\n",
              "     width=\"24px\">\n",
              "    <g>\n",
              "        <path d=\"M19 3H5c-1.1 0-2 .9-2 2v14c0 1.1.9 2 2 2h14c1.1 0 2-.9 2-2V5c0-1.1-.9-2-2-2zM9 17H7v-7h2v7zm4 0h-2V7h2v10zm4 0h-2v-4h2v4z\"/>\n",
              "    </g>\n",
              "</svg>\n",
              "  </button>\n",
              "\n",
              "<style>\n",
              "  .colab-df-quickchart {\n",
              "      --bg-color: #E8F0FE;\n",
              "      --fill-color: #1967D2;\n",
              "      --hover-bg-color: #E2EBFA;\n",
              "      --hover-fill-color: #174EA6;\n",
              "      --disabled-fill-color: #AAA;\n",
              "      --disabled-bg-color: #DDD;\n",
              "  }\n",
              "\n",
              "  [theme=dark] .colab-df-quickchart {\n",
              "      --bg-color: #3B4455;\n",
              "      --fill-color: #D2E3FC;\n",
              "      --hover-bg-color: #434B5C;\n",
              "      --hover-fill-color: #FFFFFF;\n",
              "      --disabled-bg-color: #3B4455;\n",
              "      --disabled-fill-color: #666;\n",
              "  }\n",
              "\n",
              "  .colab-df-quickchart {\n",
              "    background-color: var(--bg-color);\n",
              "    border: none;\n",
              "    border-radius: 50%;\n",
              "    cursor: pointer;\n",
              "    display: none;\n",
              "    fill: var(--fill-color);\n",
              "    height: 32px;\n",
              "    padding: 0;\n",
              "    width: 32px;\n",
              "  }\n",
              "\n",
              "  .colab-df-quickchart:hover {\n",
              "    background-color: var(--hover-bg-color);\n",
              "    box-shadow: 0 1px 2px rgba(60, 64, 67, 0.3), 0 1px 3px 1px rgba(60, 64, 67, 0.15);\n",
              "    fill: var(--button-hover-fill-color);\n",
              "  }\n",
              "\n",
              "  .colab-df-quickchart-complete:disabled,\n",
              "  .colab-df-quickchart-complete:disabled:hover {\n",
              "    background-color: var(--disabled-bg-color);\n",
              "    fill: var(--disabled-fill-color);\n",
              "    box-shadow: none;\n",
              "  }\n",
              "\n",
              "  .colab-df-spinner {\n",
              "    border: 2px solid var(--fill-color);\n",
              "    border-color: transparent;\n",
              "    border-bottom-color: var(--fill-color);\n",
              "    animation:\n",
              "      spin 1s steps(1) infinite;\n",
              "  }\n",
              "\n",
              "  @keyframes spin {\n",
              "    0% {\n",
              "      border-color: transparent;\n",
              "      border-bottom-color: var(--fill-color);\n",
              "      border-left-color: var(--fill-color);\n",
              "    }\n",
              "    20% {\n",
              "      border-color: transparent;\n",
              "      border-left-color: var(--fill-color);\n",
              "      border-top-color: var(--fill-color);\n",
              "    }\n",
              "    30% {\n",
              "      border-color: transparent;\n",
              "      border-left-color: var(--fill-color);\n",
              "      border-top-color: var(--fill-color);\n",
              "      border-right-color: var(--fill-color);\n",
              "    }\n",
              "    40% {\n",
              "      border-color: transparent;\n",
              "      border-right-color: var(--fill-color);\n",
              "      border-top-color: var(--fill-color);\n",
              "    }\n",
              "    60% {\n",
              "      border-color: transparent;\n",
              "      border-right-color: var(--fill-color);\n",
              "    }\n",
              "    80% {\n",
              "      border-color: transparent;\n",
              "      border-right-color: var(--fill-color);\n",
              "      border-bottom-color: var(--fill-color);\n",
              "    }\n",
              "    90% {\n",
              "      border-color: transparent;\n",
              "      border-bottom-color: var(--fill-color);\n",
              "    }\n",
              "  }\n",
              "</style>\n",
              "\n",
              "  <script>\n",
              "    async function quickchart(key) {\n",
              "      const quickchartButtonEl =\n",
              "        document.querySelector('#' + key + ' button');\n",
              "      quickchartButtonEl.disabled = true;  // To prevent multiple clicks.\n",
              "      quickchartButtonEl.classList.add('colab-df-spinner');\n",
              "      try {\n",
              "        const charts = await google.colab.kernel.invokeFunction(\n",
              "            'suggestCharts', [key], {});\n",
              "      } catch (error) {\n",
              "        console.error('Error during call to suggestCharts:', error);\n",
              "      }\n",
              "      quickchartButtonEl.classList.remove('colab-df-spinner');\n",
              "      quickchartButtonEl.classList.add('colab-df-quickchart-complete');\n",
              "    }\n",
              "    (() => {\n",
              "      let quickchartButtonEl =\n",
              "        document.querySelector('#df-02143fe7-298d-42f8-85b7-788f97abfb76 button');\n",
              "      quickchartButtonEl.style.display =\n",
              "        google.colab.kernel.accessAllowed ? 'block' : 'none';\n",
              "    })();\n",
              "  </script>\n",
              "</div>\n",
              "\n",
              "    </div>\n",
              "  </div>\n"
            ],
            "application/vnd.google.colaboratory.intrinsic+json": {
              "type": "dataframe",
              "variable_name": "d1",
              "summary": "{\n  \"name\": \"d1\",\n  \"rows\": 5,\n  \"fields\": [\n    {\n      \"column\": \"city\",\n      \"properties\": {\n        \"dtype\": \"string\",\n        \"num_unique_values\": 5,\n        \"samples\": [\n          \"Delhi\",\n          \"Manali\",\n          \"Kanpur\"\n        ],\n        \"semantic_type\": \"\",\n        \"description\": \"\"\n      }\n    },\n    {\n      \"column\": \"Temperature\",\n      \"properties\": {\n        \"dtype\": \"number\",\n        \"std\": 10,\n        \"min\": -2,\n        \"max\": 26,\n        \"num_unique_values\": 5,\n        \"samples\": [\n          22,\n          -2,\n          20\n        ],\n        \"semantic_type\": \"\",\n        \"description\": \"\"\n      }\n    }\n  ]\n}"
            }
          },
          "metadata": {},
          "execution_count": 65
        }
      ],
      "source": [
        "d1.head(3)"
      ],
      "id": "PlmVOyAAmYBW"
    },
    {
      "cell_type": "markdown",
      "metadata": {
        "id": "MKNIbwW2mYBW"
      },
      "source": [
        "Select all the rows and last two columns in the dataframe.\n",
        "\n",
        "\n"
      ],
      "id": "MKNIbwW2mYBW"
    },
    {
      "cell_type": "code",
      "execution_count": null,
      "metadata": {
        "id": "WfQasVJImYBW",
        "colab": {
          "base_uri": "https://localhost:8080/",
          "height": 206
        },
        "outputId": "706408b4-fc30-4b93-e144-dae2700bd144"
      },
      "outputs": [
        {
          "output_type": "execute_result",
          "data": {
            "text/plain": [
              "         city  Temperature\n",
              "0  Chandigarh           15\n",
              "1       Delhi           22\n",
              "2      Kanpur           20\n",
              "3     Chennai           26\n",
              "4      Manali           -2"
            ],
            "text/html": [
              "\n",
              "  <div id=\"df-ee63bb68-0bfa-4e91-9c69-ae29c66d02e6\" class=\"colab-df-container\">\n",
              "    <div>\n",
              "<style scoped>\n",
              "    .dataframe tbody tr th:only-of-type {\n",
              "        vertical-align: middle;\n",
              "    }\n",
              "\n",
              "    .dataframe tbody tr th {\n",
              "        vertical-align: top;\n",
              "    }\n",
              "\n",
              "    .dataframe thead th {\n",
              "        text-align: right;\n",
              "    }\n",
              "</style>\n",
              "<table border=\"1\" class=\"dataframe\">\n",
              "  <thead>\n",
              "    <tr style=\"text-align: right;\">\n",
              "      <th></th>\n",
              "      <th>city</th>\n",
              "      <th>Temperature</th>\n",
              "    </tr>\n",
              "  </thead>\n",
              "  <tbody>\n",
              "    <tr>\n",
              "      <th>0</th>\n",
              "      <td>Chandigarh</td>\n",
              "      <td>15</td>\n",
              "    </tr>\n",
              "    <tr>\n",
              "      <th>1</th>\n",
              "      <td>Delhi</td>\n",
              "      <td>22</td>\n",
              "    </tr>\n",
              "    <tr>\n",
              "      <th>2</th>\n",
              "      <td>Kanpur</td>\n",
              "      <td>20</td>\n",
              "    </tr>\n",
              "    <tr>\n",
              "      <th>3</th>\n",
              "      <td>Chennai</td>\n",
              "      <td>26</td>\n",
              "    </tr>\n",
              "    <tr>\n",
              "      <th>4</th>\n",
              "      <td>Manali</td>\n",
              "      <td>-2</td>\n",
              "    </tr>\n",
              "  </tbody>\n",
              "</table>\n",
              "</div>\n",
              "    <div class=\"colab-df-buttons\">\n",
              "\n",
              "  <div class=\"colab-df-container\">\n",
              "    <button class=\"colab-df-convert\" onclick=\"convertToInteractive('df-ee63bb68-0bfa-4e91-9c69-ae29c66d02e6')\"\n",
              "            title=\"Convert this dataframe to an interactive table.\"\n",
              "            style=\"display:none;\">\n",
              "\n",
              "  <svg xmlns=\"http://www.w3.org/2000/svg\" height=\"24px\" viewBox=\"0 -960 960 960\">\n",
              "    <path d=\"M120-120v-720h720v720H120Zm60-500h600v-160H180v160Zm220 220h160v-160H400v160Zm0 220h160v-160H400v160ZM180-400h160v-160H180v160Zm440 0h160v-160H620v160ZM180-180h160v-160H180v160Zm440 0h160v-160H620v160Z\"/>\n",
              "  </svg>\n",
              "    </button>\n",
              "\n",
              "  <style>\n",
              "    .colab-df-container {\n",
              "      display:flex;\n",
              "      gap: 12px;\n",
              "    }\n",
              "\n",
              "    .colab-df-convert {\n",
              "      background-color: #E8F0FE;\n",
              "      border: none;\n",
              "      border-radius: 50%;\n",
              "      cursor: pointer;\n",
              "      display: none;\n",
              "      fill: #1967D2;\n",
              "      height: 32px;\n",
              "      padding: 0 0 0 0;\n",
              "      width: 32px;\n",
              "    }\n",
              "\n",
              "    .colab-df-convert:hover {\n",
              "      background-color: #E2EBFA;\n",
              "      box-shadow: 0px 1px 2px rgba(60, 64, 67, 0.3), 0px 1px 3px 1px rgba(60, 64, 67, 0.15);\n",
              "      fill: #174EA6;\n",
              "    }\n",
              "\n",
              "    .colab-df-buttons div {\n",
              "      margin-bottom: 4px;\n",
              "    }\n",
              "\n",
              "    [theme=dark] .colab-df-convert {\n",
              "      background-color: #3B4455;\n",
              "      fill: #D2E3FC;\n",
              "    }\n",
              "\n",
              "    [theme=dark] .colab-df-convert:hover {\n",
              "      background-color: #434B5C;\n",
              "      box-shadow: 0px 1px 3px 1px rgba(0, 0, 0, 0.15);\n",
              "      filter: drop-shadow(0px 1px 2px rgba(0, 0, 0, 0.3));\n",
              "      fill: #FFFFFF;\n",
              "    }\n",
              "  </style>\n",
              "\n",
              "    <script>\n",
              "      const buttonEl =\n",
              "        document.querySelector('#df-ee63bb68-0bfa-4e91-9c69-ae29c66d02e6 button.colab-df-convert');\n",
              "      buttonEl.style.display =\n",
              "        google.colab.kernel.accessAllowed ? 'block' : 'none';\n",
              "\n",
              "      async function convertToInteractive(key) {\n",
              "        const element = document.querySelector('#df-ee63bb68-0bfa-4e91-9c69-ae29c66d02e6');\n",
              "        const dataTable =\n",
              "          await google.colab.kernel.invokeFunction('convertToInteractive',\n",
              "                                                    [key], {});\n",
              "        if (!dataTable) return;\n",
              "\n",
              "        const docLinkHtml = 'Like what you see? Visit the ' +\n",
              "          '<a target=\"_blank\" href=https://colab.research.google.com/notebooks/data_table.ipynb>data table notebook</a>'\n",
              "          + ' to learn more about interactive tables.';\n",
              "        element.innerHTML = '';\n",
              "        dataTable['output_type'] = 'display_data';\n",
              "        await google.colab.output.renderOutput(dataTable, element);\n",
              "        const docLink = document.createElement('div');\n",
              "        docLink.innerHTML = docLinkHtml;\n",
              "        element.appendChild(docLink);\n",
              "      }\n",
              "    </script>\n",
              "  </div>\n",
              "\n",
              "\n",
              "<div id=\"df-8fe0a648-447c-4dd6-9385-fb9dedf503be\">\n",
              "  <button class=\"colab-df-quickchart\" onclick=\"quickchart('df-8fe0a648-447c-4dd6-9385-fb9dedf503be')\"\n",
              "            title=\"Suggest charts\"\n",
              "            style=\"display:none;\">\n",
              "\n",
              "<svg xmlns=\"http://www.w3.org/2000/svg\" height=\"24px\"viewBox=\"0 0 24 24\"\n",
              "     width=\"24px\">\n",
              "    <g>\n",
              "        <path d=\"M19 3H5c-1.1 0-2 .9-2 2v14c0 1.1.9 2 2 2h14c1.1 0 2-.9 2-2V5c0-1.1-.9-2-2-2zM9 17H7v-7h2v7zm4 0h-2V7h2v10zm4 0h-2v-4h2v4z\"/>\n",
              "    </g>\n",
              "</svg>\n",
              "  </button>\n",
              "\n",
              "<style>\n",
              "  .colab-df-quickchart {\n",
              "      --bg-color: #E8F0FE;\n",
              "      --fill-color: #1967D2;\n",
              "      --hover-bg-color: #E2EBFA;\n",
              "      --hover-fill-color: #174EA6;\n",
              "      --disabled-fill-color: #AAA;\n",
              "      --disabled-bg-color: #DDD;\n",
              "  }\n",
              "\n",
              "  [theme=dark] .colab-df-quickchart {\n",
              "      --bg-color: #3B4455;\n",
              "      --fill-color: #D2E3FC;\n",
              "      --hover-bg-color: #434B5C;\n",
              "      --hover-fill-color: #FFFFFF;\n",
              "      --disabled-bg-color: #3B4455;\n",
              "      --disabled-fill-color: #666;\n",
              "  }\n",
              "\n",
              "  .colab-df-quickchart {\n",
              "    background-color: var(--bg-color);\n",
              "    border: none;\n",
              "    border-radius: 50%;\n",
              "    cursor: pointer;\n",
              "    display: none;\n",
              "    fill: var(--fill-color);\n",
              "    height: 32px;\n",
              "    padding: 0;\n",
              "    width: 32px;\n",
              "  }\n",
              "\n",
              "  .colab-df-quickchart:hover {\n",
              "    background-color: var(--hover-bg-color);\n",
              "    box-shadow: 0 1px 2px rgba(60, 64, 67, 0.3), 0 1px 3px 1px rgba(60, 64, 67, 0.15);\n",
              "    fill: var(--button-hover-fill-color);\n",
              "  }\n",
              "\n",
              "  .colab-df-quickchart-complete:disabled,\n",
              "  .colab-df-quickchart-complete:disabled:hover {\n",
              "    background-color: var(--disabled-bg-color);\n",
              "    fill: var(--disabled-fill-color);\n",
              "    box-shadow: none;\n",
              "  }\n",
              "\n",
              "  .colab-df-spinner {\n",
              "    border: 2px solid var(--fill-color);\n",
              "    border-color: transparent;\n",
              "    border-bottom-color: var(--fill-color);\n",
              "    animation:\n",
              "      spin 1s steps(1) infinite;\n",
              "  }\n",
              "\n",
              "  @keyframes spin {\n",
              "    0% {\n",
              "      border-color: transparent;\n",
              "      border-bottom-color: var(--fill-color);\n",
              "      border-left-color: var(--fill-color);\n",
              "    }\n",
              "    20% {\n",
              "      border-color: transparent;\n",
              "      border-left-color: var(--fill-color);\n",
              "      border-top-color: var(--fill-color);\n",
              "    }\n",
              "    30% {\n",
              "      border-color: transparent;\n",
              "      border-left-color: var(--fill-color);\n",
              "      border-top-color: var(--fill-color);\n",
              "      border-right-color: var(--fill-color);\n",
              "    }\n",
              "    40% {\n",
              "      border-color: transparent;\n",
              "      border-right-color: var(--fill-color);\n",
              "      border-top-color: var(--fill-color);\n",
              "    }\n",
              "    60% {\n",
              "      border-color: transparent;\n",
              "      border-right-color: var(--fill-color);\n",
              "    }\n",
              "    80% {\n",
              "      border-color: transparent;\n",
              "      border-right-color: var(--fill-color);\n",
              "      border-bottom-color: var(--fill-color);\n",
              "    }\n",
              "    90% {\n",
              "      border-color: transparent;\n",
              "      border-bottom-color: var(--fill-color);\n",
              "    }\n",
              "  }\n",
              "</style>\n",
              "\n",
              "  <script>\n",
              "    async function quickchart(key) {\n",
              "      const quickchartButtonEl =\n",
              "        document.querySelector('#' + key + ' button');\n",
              "      quickchartButtonEl.disabled = true;  // To prevent multiple clicks.\n",
              "      quickchartButtonEl.classList.add('colab-df-spinner');\n",
              "      try {\n",
              "        const charts = await google.colab.kernel.invokeFunction(\n",
              "            'suggestCharts', [key], {});\n",
              "      } catch (error) {\n",
              "        console.error('Error during call to suggestCharts:', error);\n",
              "      }\n",
              "      quickchartButtonEl.classList.remove('colab-df-spinner');\n",
              "      quickchartButtonEl.classList.add('colab-df-quickchart-complete');\n",
              "    }\n",
              "    (() => {\n",
              "      let quickchartButtonEl =\n",
              "        document.querySelector('#df-8fe0a648-447c-4dd6-9385-fb9dedf503be button');\n",
              "      quickchartButtonEl.style.display =\n",
              "        google.colab.kernel.accessAllowed ? 'block' : 'none';\n",
              "    })();\n",
              "  </script>\n",
              "</div>\n",
              "\n",
              "    </div>\n",
              "  </div>\n"
            ],
            "application/vnd.google.colaboratory.intrinsic+json": {
              "type": "dataframe",
              "summary": "{\n  \"name\": \"d1\",\n  \"rows\": 5,\n  \"fields\": [\n    {\n      \"column\": \"city\",\n      \"properties\": {\n        \"dtype\": \"string\",\n        \"num_unique_values\": 5,\n        \"samples\": [\n          \"Delhi\",\n          \"Manali\",\n          \"Kanpur\"\n        ],\n        \"semantic_type\": \"\",\n        \"description\": \"\"\n      }\n    },\n    {\n      \"column\": \"Temperature\",\n      \"properties\": {\n        \"dtype\": \"number\",\n        \"std\": 10,\n        \"min\": -2,\n        \"max\": 26,\n        \"num_unique_values\": 5,\n        \"samples\": [\n          22,\n          -2,\n          20\n        ],\n        \"semantic_type\": \"\",\n        \"description\": \"\"\n      }\n    }\n  ]\n}"
            }
          },
          "metadata": {},
          "execution_count": 66
        }
      ],
      "source": [
        "d1.iloc[:, -2:]"
      ],
      "id": "WfQasVJImYBW"
    },
    {
      "cell_type": "markdown",
      "metadata": {
        "id": "LQ9xspkHmYBW"
      },
      "source": [
        "## Groupby"
      ],
      "id": "LQ9xspkHmYBW"
    },
    {
      "cell_type": "code",
      "execution_count": null,
      "metadata": {
        "id": "IhPmh2qSUIfI",
        "colab": {
          "base_uri": "https://localhost:8080/"
        },
        "outputId": "caf174c8-613a-47f7-b337-eacec9f3651e"
      },
      "outputs": [
        {
          "output_type": "stream",
          "name": "stdout",
          "text": [
            "                      Movie  Year                     Genre  Rating\n",
            "0  The Shawshank Redemption  1994                     Drama     9.3\n",
            "1           The Dark Knight  2008      Action, Crime, Drama     9.0\n",
            "2              Pulp Fiction  1994              Crime, Drama     8.9\n",
            "3                 Inception  2010  Action, Sci-Fi, Thriller     8.8\n"
          ]
        }
      ],
      "source": [
        "data = {\n",
        "    'Movie': ['The Shawshank Redemption', 'The Dark Knight', 'Pulp Fiction', 'Inception'],\n",
        "    'Year': [1994, 2008, 1994, 2010],\n",
        "    'Genre': ['Drama', 'Action, Crime, Drama', 'Crime, Drama', 'Action, Sci-Fi, Thriller'],\n",
        "    'Rating': [9.3, 9.0, 8.9, 8.8]\n",
        "}\n",
        "\n",
        "movies_df = pd.DataFrame(data)\n",
        "print(movies_df)\n",
        "\n",
        "\n"
      ],
      "id": "IhPmh2qSUIfI"
    },
    {
      "cell_type": "code",
      "execution_count": null,
      "metadata": {
        "id": "x8loPsRaUIfJ",
        "colab": {
          "base_uri": "https://localhost:8080/"
        },
        "outputId": "7f9cdd82-6ef6-4d31-8068-f1e822f29412"
      },
      "outputs": [
        {
          "output_type": "stream",
          "name": "stdout",
          "text": [
            "Year\n",
            "1994    18.2\n",
            "2008     9.0\n",
            "2010     8.8\n",
            "Name: Rating, dtype: float64\n"
          ]
        }
      ],
      "source": [
        "# Use Groupby of single column with aggregate sum()\n",
        "\n",
        "grouped_by_year = movies_df.groupby('Year')['Rating'].sum()\n",
        "\n",
        "print(grouped_by_year)\n"
      ],
      "id": "x8loPsRaUIfJ"
    },
    {
      "cell_type": "code",
      "execution_count": null,
      "metadata": {
        "id": "VIWxl25_UIfK",
        "colab": {
          "base_uri": "https://localhost:8080/"
        },
        "outputId": "ff737986-0f02-4405-f7bf-9b3714bf3ee6"
      },
      "outputs": [
        {
          "output_type": "stream",
          "name": "stdout",
          "text": [
            "Year\n",
            "1994    2\n",
            "2008    1\n",
            "2010    1\n",
            "Name: Movie, dtype: int64\n"
          ]
        }
      ],
      "source": [
        "# Use Groupby of single column with aggregate count()\n",
        "movie_count_by_year = movies_df.groupby('Year')['Movie'].count()\n",
        "\n",
        "print(movie_count_by_year)\n"
      ],
      "id": "VIWxl25_UIfK"
    },
    {
      "cell_type": "code",
      "execution_count": null,
      "metadata": {
        "id": "KRG71Pa8UIfK",
        "colab": {
          "base_uri": "https://localhost:8080/"
        },
        "outputId": "8dcf9c53-c06a-421b-c7e1-9e56e6b71254"
      },
      "outputs": [
        {
          "output_type": "stream",
          "name": "stdout",
          "text": [
            "Minimum Ratings by Year:\n",
            " Year\n",
            "1994    8.9\n",
            "2008    9.0\n",
            "2010    8.8\n",
            "Name: Rating, dtype: float64\n",
            "\n",
            "Maximum Ratings by Year:\n",
            " Year\n",
            "1994    9.3\n",
            "2008    9.0\n",
            "2010    8.8\n",
            "Name: Rating, dtype: float64\n"
          ]
        }
      ],
      "source": [
        "# Use Groupby of single column with aggregate min() and max()\n",
        "min_rating_by_year = movies_df.groupby('Year')['Rating'].min()\n",
        "max_rating_by_year = movies_df.groupby('Year')['Rating'].max()\n",
        "\n",
        "print(\"Minimum Ratings by Year:\\n\", min_rating_by_year)\n",
        "print(\"\\nMaximum Ratings by Year:\\n\", max_rating_by_year)\n",
        "\n"
      ],
      "id": "KRG71Pa8UIfK"
    },
    {
      "cell_type": "code",
      "execution_count": null,
      "metadata": {
        "id": "2p6HydpzUIfK",
        "colab": {
          "base_uri": "https://localhost:8080/"
        },
        "outputId": "1834665e-d784-46e4-b818-5f8527ed1e46"
      },
      "outputs": [
        {
          "output_type": "stream",
          "name": "stdout",
          "text": [
            "Year  Genre                   \n",
            "1994  Crime, Drama                8.9\n",
            "      Drama                       9.3\n",
            "2008  Action, Crime, Drama        9.0\n",
            "2010  Action, Sci-Fi, Thriller    8.8\n",
            "Name: Rating, dtype: float64\n"
          ]
        }
      ],
      "source": [
        "# Use Groupby of any 2 columns with aggregate mean()\n",
        "mean_rating_by_year_genre = movies_df.groupby(['Year', 'Genre'])['Rating'].mean()\n",
        "\n",
        "print(mean_rating_by_year_genre)\n",
        "\n"
      ],
      "id": "2p6HydpzUIfK"
    },
    {
      "cell_type": "code",
      "execution_count": null,
      "metadata": {
        "id": "K0IPfvYJUIfL",
        "colab": {
          "base_uri": "https://localhost:8080/"
        },
        "outputId": "fa166091-5829-4131-9d71-169f83bc182f"
      },
      "outputs": [
        {
          "output_type": "stream",
          "name": "stdout",
          "text": [
            "Minimum Ratings by Year and Genre:\n",
            " Year  Genre                   \n",
            "1994  Crime, Drama                8.9\n",
            "      Drama                       9.3\n",
            "2008  Action, Crime, Drama        9.0\n",
            "2010  Action, Sci-Fi, Thriller    8.8\n",
            "Name: Rating, dtype: float64\n",
            "\n",
            "Maximum Ratings by Year and Genre:\n",
            " Year  Genre                   \n",
            "1994  Crime, Drama                8.9\n",
            "      Drama                       9.3\n",
            "2008  Action, Crime, Drama        9.0\n",
            "2010  Action, Sci-Fi, Thriller    8.8\n",
            "Name: Rating, dtype: float64\n"
          ]
        }
      ],
      "source": [
        "# Use Groupby of any 2 columns with aggregate min() and max()\n",
        "min_rating_by_year_genre = movies_df.groupby(['Year', 'Genre'])['Rating'].min()\n",
        "max_rating_by_year_genre = movies_df.groupby(['Year', 'Genre'])['Rating'].max()\n",
        "\n",
        "print(\"Minimum Ratings by Year and Genre:\\n\", min_rating_by_year_genre)\n",
        "print(\"\\nMaximum Ratings by Year and Genre:\\n\", max_rating_by_year_genre)\n",
        "\n"
      ],
      "id": "K0IPfvYJUIfL"
    },
    {
      "cell_type": "code",
      "execution_count": null,
      "metadata": {
        "id": "nsgy-e74UIfL"
      },
      "outputs": [],
      "source": [],
      "id": "nsgy-e74UIfL"
    }
  ],
  "metadata": {
    "colab": {
      "provenance": [],
      "include_colab_link": true
    },
    "kernelspec": {
      "display_name": "Python 3",
      "language": "python",
      "name": "python3"
    },
    "language_info": {
      "codemirror_mode": {
        "name": "ipython",
        "version": 3
      },
      "file_extension": ".py",
      "mimetype": "text/x-python",
      "name": "python",
      "nbconvert_exporter": "python",
      "pygments_lexer": "ipython3",
      "version": "3.7.4"
    }
  },
  "nbformat": 4,
  "nbformat_minor": 5
}